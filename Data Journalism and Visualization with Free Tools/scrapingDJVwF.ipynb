{
  "nbformat": 4,
  "nbformat_minor": 0,
  "metadata": {
    "colab": {
      "name": "scrapingDJVwF.ipynb",
      "provenance": [],
      "private_outputs": true,
      "toc_visible": true
    },
    "kernelspec": {
      "name": "python3",
      "display_name": "Python 3"
    }
  },
  "cells": [
    {
      "cell_type": "code",
      "metadata": {
        "id": "FMQlmG-nA47d",
        "colab_type": "code",
        "colab": {}
      },
      "source": [
        "# Login Info\n",
        "login_info = {\n",
        "    'username': 'USERNAME',\n",
        "    'password': 'PASSWORD'\n",
        "}\n",
        "\n",
        "  # Discussion Forum URL\n",
        "# This is for 'M1: Question 1: Discussion Forum 1'\n",
        "url = \"https://journalismcourses.org/mod/forum/view.php?f=1080&page=\""
      ],
      "execution_count": 0,
      "outputs": []
    },
    {
      "cell_type": "code",
      "metadata": {
        "id": "ph4h9Vc6jSSC",
        "colab_type": "code",
        "colab": {}
      },
      "source": [
        "import requests\n",
        "from bs4 import BeautifulSoup\n",
        "from urllib.parse import urljoin\n",
        "import pandas as pd"
      ],
      "execution_count": 0,
      "outputs": []
    },
    {
      "cell_type": "code",
      "metadata": {
        "id": "r0jqI54eqw2g",
        "colab_type": "code",
        "colab": {}
      },
      "source": [
        "session = requests.session()\n",
        "url_login = \"https://journalismcourses.org/login/index.php\"\n",
        "res = session.post(url_login, data=login_info)\n",
        "res.raise_for_status()\n",
        "\n",
        "discussionList = pd.DataFrame(columns=['title','link','name','lastpost'])"
      ],
      "execution_count": 0,
      "outputs": []
    },
    {
      "cell_type": "code",
      "metadata": {
        "id": "yUIqcfmumvVc",
        "colab_type": "code",
        "colab": {}
      },
      "source": [
        "def getTitle(gotSoup):\n",
        "\n",
        "    for el in gotSoup.find_all(\"tr\", class_=\"discussion\"):\n",
        "        title  = el.find(\"td\", class_=\"topic\").text\n",
        "        link = el.find(\"td\", class_=\"topic\").find('a', href=True)['href']\n",
        "        name = el.find(\"td\", class_=\"author\").text\n",
        "        lastpost = el.find(\"td\", class_=\"lastpost\").text\n",
        "\n",
        "        global discussionList\n",
        "        se = pd.Series([title,link,name,lastpost], index=discussionList.columns)\n",
        "        discussionList = discussionList.append(se, ignore_index=True)"
      ],
      "execution_count": 0,
      "outputs": []
    },
    {
      "cell_type": "code",
      "metadata": {
        "id": "gwzt331n_NxW",
        "colab_type": "code",
        "colab": {}
      },
      "source": [
        "i = 0\n",
        "\n",
        "res = session.post(url + str(i), data=login_info)\n",
        "soup = BeautifulSoup(res.text)\n",
        "misc = soup.find(\"div\", class_=\"paging\").find_all(\"a\")\n",
        "\n",
        "page_length = len(misc)"
      ],
      "execution_count": 0,
      "outputs": []
    },
    {
      "cell_type": "code",
      "metadata": {
        "id": "X0pVrSqLFgNq",
        "colab_type": "code",
        "colab": {}
      },
      "source": [
        "for i in range(page_length):\n",
        "    newUrl = url + str(i)\n",
        "    res = session.post(newUrl, data=login_info)\n",
        "    htmltext = res.text\n",
        "    soup = BeautifulSoup(htmltext)\n",
        "    getTitle(soup)"
      ],
      "execution_count": 0,
      "outputs": []
    },
    {
      "cell_type": "markdown",
      "metadata": {
        "id": "Z84f5Mkjyvk8",
        "colab_type": "text"
      },
      "source": [
        "## 結果"
      ]
    },
    {
      "cell_type": "code",
      "metadata": {
        "id": "zfY3-WtP_N94",
        "colab_type": "code",
        "colab": {}
      },
      "source": [
        "discussionList"
      ],
      "execution_count": 0,
      "outputs": []
    },
    {
      "cell_type": "code",
      "metadata": {
        "id": "_3FOD03S6qS4",
        "colab_type": "code",
        "colab": {}
      },
      "source": [
        "import time;\n",
        "ts = time.time()\n",
        "from google.colab import files\n",
        "import csv\n",
        "filename = \"discussionList\" + str(round(ts)) + \".csv\""
      ],
      "execution_count": 0,
      "outputs": []
    },
    {
      "cell_type": "code",
      "metadata": {
        "id": "c2NASqt2BT-i",
        "colab_type": "code",
        "colab": {}
      },
      "source": [
        "discussionList.to_csv(filename)\n",
        "files.download(filename)"
      ],
      "execution_count": 0,
      "outputs": []
    }
  ]
}